{
  "nbformat": 4,
  "nbformat_minor": 0,
  "metadata": {
    "colab": {
      "provenance": [],
      "collapsed_sections": [],
      "authorship_tag": "ABX9TyO8WKY4NrItTXgR1VAd9vZQ",
      "include_colab_link": true
    },
    "kernelspec": {
      "name": "python3",
      "display_name": "Python 3"
    },
    "language_info": {
      "name": "python"
    }
  },
  "cells": [
    {
      "cell_type": "markdown",
      "metadata": {
        "id": "view-in-github",
        "colab_type": "text"
      },
      "source": [
        "<a href=\"https://colab.research.google.com/github/janetstefanov/macro_psets/blob/main/Econ210_Pset1.ipynb\" target=\"_parent\"><img src=\"https://colab.research.google.com/assets/colab-badge.svg\" alt=\"Open In Colab\"/></a>"
      ]
    },
    {
      "cell_type": "code",
      "source": [
        "#solved using an array (works faster)\n",
        "import numpy as np\n",
        "#storing the values we have already computed in an array\n",
        "sizes = np.arange(1, 9)\n",
        "p = np.array([1,5,8,9,10,17,17,20])\n",
        "p_prime = np.array([3,5,8,9,10,17,17,20])\n",
        "target = 8\n",
        "\n",
        "def value_array(parcel, p):\n",
        "  C = np.array([])\n",
        "  for plot_sizes in range(1, parcel+1):  \n",
        "    #eliminates redundant calculations\n",
        "    size_search = sizes[sizes <= math.floor(plot_sizes/2)]\n",
        "    candidates = []\n",
        "    for si in size_search: \n",
        "      candidates.append(C[si-1]+C[plot_sizes - si -1])\n",
        "    candidates.append(p[plot_sizes-1])  \n",
        "    candidates = np.array(candidates)   \n",
        "    opt_change = np.max(candidates)\n",
        "    C = np.append(C, opt_change)\n",
        "  value = int(C[parcel-1])\n",
        "  return value\n",
        "\n",
        "#print(value_array(8,p))\n",
        "print(\"The value of an\", target, \"unit plot is \",change_recursive(target,p), \"thousand dollars\") \n",
        "print(\"Based on the new prices, the value of an\", target, \"unit plot is\", change_recursive(target,p_prime), \"thousand dollars\")"
      ],
      "metadata": {
        "colab": {
          "base_uri": "https://localhost:8080/"
        },
        "id": "oCrNL9va0iwO",
        "outputId": "0023a7fd-e530-40ae-b84b-d344638c08af"
      },
      "execution_count": 152,
      "outputs": [
        {
          "output_type": "stream",
          "name": "stdout",
          "text": [
            "The value of an 8 unit plot is  22 thousand dollars\n",
            "Based on the new prices, the value of an 8 unit plot is 24 thousand dollars\n"
          ]
        }
      ]
    },
    {
      "cell_type": "code",
      "source": [
        "#solved recursively (this works but is slower)\n",
        "import numpy as np \n",
        "\n",
        "#plot sizes specifies the sizes of parcels\n",
        "#p gives prices from 1a\n",
        "plot_sizes = np.arange(1, 9)\n",
        "p = np.array([1,5,8,9,10,17,17,20])\n",
        "#p_prime is the price vector from 1d\n",
        "p_prime = np.array([3,5,8,9,10,17,17,20])\n",
        "target = 8\n",
        "\n",
        "def change_recursive(size, p):\n",
        "  #establish sizes of plots that are available\n",
        "  d_search = plot_sizes[plot_sizes <= math.floor(size/2)]\n",
        "\n",
        "  candidates = []\n",
        "  #computes all combinations of smaller subvalues\n",
        "  for di in d_search: \n",
        "    candidates.append(change_recursive(di,p) + change_recursive(size-di, p))\n",
        "  candidates.append(p[size-1])  \n",
        "  candidates = np.array(candidates)  \n",
        "  #x = d[np.argmin(candidates)]\n",
        "  opt_change = np.max(candidates)\n",
        "  #optimal_number_coins = 1 + opt_change \n",
        "  #return optimal_number_coins\n",
        "  return opt_change\n",
        "\n",
        "print(\"The value of an\", target, \"unit plot is \",change_recursive(target,p), \"thousand dollars\") \n",
        "print(\"Based on the new prices, the value of an\", target, \"unit plot is\", change_recursive(target,p_prime), \"thousand dollars\")"
      ],
      "metadata": {
        "colab": {
          "base_uri": "https://localhost:8080/"
        },
        "id": "4J7oguQ8ot6J",
        "outputId": "5ce10293-802c-4171-9516-c1c3bd5c2ffb"
      },
      "execution_count": 153,
      "outputs": [
        {
          "output_type": "stream",
          "name": "stdout",
          "text": [
            "The value of an 8 unit plot is  22 thousand dollars\n",
            "Based on the new prices, the value of an 8 unit plot is 24 thousand dollars\n"
          ]
        }
      ]
    },
    {
      "cell_type": "code",
      "source": [
        "from pickle import TRUE\n",
        "#solved using an array (works faster)\n",
        "import numpy as np\n",
        "#storing the values we have already computed in an array\n",
        "sizes = np.arange(1, 9)\n",
        "p = np.array([1,5,8,9,10,17,17,20])\n",
        "p_prime = np.array([3,5,8,9,10,17,17,20])\n",
        "target = 8\n",
        "\n",
        "def value_array(parcel, p):\n",
        "  C = np.array([])\n",
        "  for plot_sizes in range(1, parcel+1):  \n",
        "    #eliminates redundant calculations\n",
        "    size_search = sizes[sizes <= math.floor(plot_sizes/2)]\n",
        "    candidates = []\n",
        "    for si in size_search: \n",
        "      candidates.append(C[si-1]+C[plot_sizes - si -1])\n",
        "    candidates.append(p[plot_sizes-1])  \n",
        "    candidates = np.array(candidates)   \n",
        "    opt_change = np.max(candidates)\n",
        "    C = np.append(C, opt_change)\n",
        "  value = int(C[parcel-1])\n",
        "  return value\n",
        "\n",
        "import random\n",
        "import numba\n",
        "from numba import jit\n",
        "#@jit(nopython=True, parallel = True)\n",
        "def value_repeat(n):\n",
        "  for i in range(n):\n",
        "    randomlist = random.sample(range(1,100), target)\n",
        "    randomlist.sort()\n",
        "    prices = np.array(randomlist)\n",
        "    print(value_array(target, prices))\n",
        "    #return value_array(target, prices)\n",
        "value_repeat(10)\n"
      ],
      "metadata": {
        "colab": {
          "base_uri": "https://localhost:8080/"
        },
        "id": "eqG3Ke3l4rDy",
        "outputId": "2eb32ac0-f6ad-4f6c-90ac-c52b20b47177"
      },
      "execution_count": 210,
      "outputs": [
        {
          "output_type": "stream",
          "name": "stdout",
          "text": [
            "152\n",
            "320\n",
            "152\n",
            "111\n",
            "163\n",
            "98\n",
            "208\n",
            "208\n",
            "121\n",
            "92\n"
          ]
        }
      ]
    }
  ]
}