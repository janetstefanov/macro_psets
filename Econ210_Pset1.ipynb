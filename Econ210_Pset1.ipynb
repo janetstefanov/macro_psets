{
  "nbformat": 4,
  "nbformat_minor": 0,
  "metadata": {
    "colab": {
      "provenance": [],
      "collapsed_sections": [],
      "authorship_tag": "ABX9TyOv37nlhooy3JFjbNvYd4yA",
      "include_colab_link": true
    },
    "kernelspec": {
      "name": "python3",
      "display_name": "Python 3"
    },
    "language_info": {
      "name": "python"
    }
  },
  "cells": [
    {
      "cell_type": "markdown",
      "metadata": {
        "id": "view-in-github",
        "colab_type": "text"
      },
      "source": [
        "<a href=\"https://colab.research.google.com/github/janetstefanov/macro_psets/blob/main/Econ210_Pset1.ipynb\" target=\"_parent\"><img src=\"https://colab.research.google.com/assets/colab-badge.svg\" alt=\"Open In Colab\"/></a>"
      ]
    },
    {
      "cell_type": "code",
      "source": [
        "#solved using an array (works faster)\n",
        "import numpy as np\n",
        "#storing the values we have already computed in an array\n",
        "sizes = np.arange(1, 9)\n",
        "p = np.array([1,5,8,9,10,17,17,20])\n",
        "p_prime = np.array([3,5,8,9,10,17,17,20])\n",
        "target = 8\n",
        "\n",
        "def value_array(parcel, d):\n",
        "  C = np.array([])\n",
        "  for plot_sizes in range(1, parcel+1):  \n",
        "    #eliminates redundant calculations\n",
        "    size_search = sizes[sizes < math.floor(plot_sizes/2)]\n",
        "    candidates = []\n",
        "    for si in size_search: \n",
        "      candidates.append(C[si-1]+C[plot_sizes - si -1])\n",
        "    candidates.append(p[plot_sizes-1])  \n",
        "    candidates = np.array(candidates)   \n",
        "    opt_change = np.max(candidates)\n",
        "    C = np.append(C, opt_change)\n",
        "  value = int(C[parcel-1])\n",
        "  return value\n",
        "\n",
        "#print(value_array(8,p))\n",
        "print(\"The value of an\", target, \"unit plot is \",change_recursive(target,p), \"thousand dollars\") \n",
        "print(\"Based on the new prices, the value of an\", target, \"unit plot is\", change_recursive(target,p_prime), \"thousand dollars\")"
      ],
      "metadata": {
        "colab": {
          "base_uri": "https://localhost:8080/"
        },
        "id": "oCrNL9va0iwO",
        "outputId": "b4eacc28-1b51-4381-b8c7-ddf6ef2f47e2"
      },
      "execution_count": 131,
      "outputs": [
        {
          "output_type": "stream",
          "name": "stdout",
          "text": [
            "The value of an 8 unit plot is  22 thousand dollars\n",
            "Based on the new prices, the value of an 8 unit plot is 24 thousand dollars\n"
          ]
        }
      ]
    },
    {
      "cell_type": "code",
      "source": [
        "#solved recursively (this works but is slower)\n",
        "import numpy as np \n",
        "\n",
        "#plot sizes specifies the sizes of parcels\n",
        "#p gives prices from 1a\n",
        "plot_sizes = np.arange(1, 9)\n",
        "p = np.array([1,5,8,9,10,17,17,20])\n",
        "#p_prime is the price vector from 1d\n",
        "p_prime = np.array([3,5,8,9,10,17,17,20])\n",
        "target = 8\n",
        "\n",
        "def change_recursive(size, p):\n",
        "  #establish sizes of plots that are available\n",
        "  d_search = plot_sizes[plot_sizes <= math.floor(size/2)]\n",
        "\n",
        "  candidates = []\n",
        "  #computes all combinations of smaller subvalues\n",
        "  for di in d_search: \n",
        "    candidates.append(change_recursive(di,p) + change_recursive(size-di, p))\n",
        "  candidates.append(p[size-1])  \n",
        "  candidates = np.array(candidates)  \n",
        "  #x = d[np.argmin(candidates)]\n",
        "  opt_change = np.max(candidates)\n",
        "  #optimal_number_coins = 1 + opt_change \n",
        "  #return optimal_number_coins\n",
        "  return opt_change\n",
        "\n",
        "print(\"The value of an\", target, \"unit plot is \",change_recursive(target,p), \"thousand dollars\") \n",
        "print(\"Based on the new prices, the value of an\", target, \"unit plot is\", change_recursive(target,p_prime), \"thousand dollars\")"
      ],
      "metadata": {
        "colab": {
          "base_uri": "https://localhost:8080/"
        },
        "id": "4J7oguQ8ot6J",
        "outputId": "bec0a917-2379-4969-923d-cdebc3a245b1"
      },
      "execution_count": 132,
      "outputs": [
        {
          "output_type": "stream",
          "name": "stdout",
          "text": [
            "The value of an 8 unit plot is  22 thousand dollars\n",
            "Based on the new prices, the value of an 8 unit plot is 24 thousand dollars\n"
          ]
        }
      ]
    }
  ]
}