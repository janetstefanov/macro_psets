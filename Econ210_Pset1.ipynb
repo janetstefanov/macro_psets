{
  "nbformat": 4,
  "nbformat_minor": 0,
  "metadata": {
    "colab": {
      "provenance": [],
      "collapsed_sections": [],
      "authorship_tag": "ABX9TyNfqktNei33Z8uBSlRcMc6T",
      "include_colab_link": true
    },
    "kernelspec": {
      "name": "python3",
      "display_name": "Python 3"
    },
    "language_info": {
      "name": "python"
    }
  },
  "cells": [
    {
      "cell_type": "markdown",
      "metadata": {
        "id": "view-in-github",
        "colab_type": "text"
      },
      "source": [
        "<a href=\"https://colab.research.google.com/github/janetstefanov/macro_psets/blob/main/Econ210_Pset1.ipynb\" target=\"_parent\"><img src=\"https://colab.research.google.com/assets/colab-badge.svg\" alt=\"Open In Colab\"/></a>"
      ]
    },
    {
      "cell_type": "code",
      "source": [
        "#part c solution corresponds to price vector p\n",
        "#part d solution corresponds to price vector p_prime\n",
        "\n",
        "#solved using an array (works faster)\n",
        "import numpy as np\n",
        "\n",
        "#storing the values we have already computed in an array\n",
        "sizes = np.arange(1, 9)\n",
        "p = np.array([1,5,8,9,10,17,17,20])\n",
        "p_prime = np.array([3,5,8,9,10,17,17,20])\n",
        "#parcel size to be evaluated\n",
        "target = 8\n",
        "\n",
        "def value_array(parcel, p):\n",
        "  C = np.array([])\n",
        "  for plot_sizes in range(1, parcel+1):  \n",
        "    #eliminates redundant calculations (limits search space)\n",
        "    size_search = sizes[sizes <= math.floor(plot_sizes/2)]\n",
        "    candidates = []\n",
        "    for si in size_search: \n",
        "      candidates.append(C[si-1]+C[plot_sizes - si -1])\n",
        "    candidates.append(p[plot_sizes-1])  \n",
        "    candidates = np.array(candidates)   \n",
        "    opt_value = np.max(candidates)\n",
        "    C = np.append(C, opt_value)\n",
        "  value = int(C[parcel-1])\n",
        "  return value\n",
        "\n",
        "#print(value_array(8,p))\n",
        "print(\"The value of an\", target, \"unit plot is \",value_array(target,p), \"thousand dollars\") \n",
        "print(\"Based on the new prices, the value of an\", target, \"unit plot is\", value_array(target,p_prime), \"thousand dollars\")"
      ],
      "metadata": {
        "colab": {
          "base_uri": "https://localhost:8080/"
        },
        "id": "oCrNL9va0iwO",
        "outputId": "097f773e-c77f-426d-a7b3-243c384dcd88"
      },
      "execution_count": 11,
      "outputs": [
        {
          "output_type": "stream",
          "name": "stdout",
          "text": [
            "The value of an 8 unit plot is  22 thousand dollars\n",
            "Based on the new prices, the value of an 8 unit plot is 24 thousand dollars\n"
          ]
        }
      ]
    },
    {
      "cell_type": "code",
      "source": [
        "#solved recursively (this works but is slower)\n",
        "import numpy as np \n",
        "import math \n",
        "\n",
        "#plot sizes specifies the sizes of parcels\n",
        "#p gives prices from 1a\n",
        "plot_sizes = np.arange(1, 9)\n",
        "p = np.array([1,5,8,9,10,17,17,20])\n",
        "#p_prime is the price vector from 1d\n",
        "p_prime = np.array([3,5,8,9,10,17,17,20])\n",
        "target = 8\n",
        "\n",
        "def value_recursive(size, p):\n",
        "  #establish sizes of plots that are available\n",
        "  d_search = plot_sizes[plot_sizes <= math.floor(size/2)]\n",
        "\n",
        "  candidates = []\n",
        "  #computes all combinations of smaller subvalues\n",
        "  for di in d_search: \n",
        "    candidates.append(change_recursive(di,p) + change_recursive(size-di, p))\n",
        "  candidates.append(p[size-1])  \n",
        "  candidates = np.array(candidates)  \n",
        "  \n",
        "  opt_value = np.max(candidates)\n",
        "  return opt_value\n",
        "\n",
        "print(\"The value of an\", target, \"unit plot is \",value_recursive(target,p), \"thousand dollars\") \n",
        "print(\"Based on the new prices, the value of an\", target, \"unit plot is\", value_recursive(target,p_prime), \"thousand dollars\")"
      ],
      "metadata": {
        "colab": {
          "base_uri": "https://localhost:8080/"
        },
        "id": "4J7oguQ8ot6J",
        "outputId": "9103586d-429e-4305-87ff-7d075098d2d6"
      },
      "execution_count": 12,
      "outputs": [
        {
          "output_type": "stream",
          "name": "stdout",
          "text": [
            "The value of an 8 unit plot is  22 thousand dollars\n",
            "Based on the new prices, the value of an 8 unit plot is 24 thousand dollars\n"
          ]
        }
      ]
    },
    {
      "cell_type": "code",
      "source": [
        "#part e \n",
        "\n",
        "import numpy as np\n",
        "#storing the values we have already computed in an array\n",
        "sizes = np.arange(1, 9)\n",
        "p = np.array([1,5,8,9,10,17,17,20])\n",
        "p_prime = np.array([3,5,8,9,10,17,17,20])\n",
        "target = 8\n",
        "\n",
        "def value_array(parcel, p):\n",
        "  C = np.array([])\n",
        "  for plot_sizes in range(1, parcel+1):  \n",
        "    #eliminates redundant calculations\n",
        "    size_search = sizes[sizes <= math.floor(plot_sizes/2)]\n",
        "    candidates = []\n",
        "    for si in size_search: \n",
        "      candidates.append(C[si-1]+C[plot_sizes - si -1])\n",
        "    candidates.append(p[plot_sizes-1])  \n",
        "    candidates = np.array(candidates)   \n",
        "    opt_value = np.max(candidates)\n",
        "    C = np.append(C, opt_value)\n",
        "  value = int(C[parcel-1])\n",
        "  return value\n",
        "\n",
        "import random\n",
        "import numba\n",
        "from numba import jit\n",
        "def value_repeat(n):\n",
        "  for i in range(n):\n",
        "    randomlist = random.sample(range(1,100), target)\n",
        "    randomlist.sort()\n",
        "    prices = np.array(randomlist)\n",
        "    print(value_array(target, prices))\n",
        "value_repeat(100)\n"
      ],
      "metadata": {
        "colab": {
          "base_uri": "https://localhost:8080/"
        },
        "id": "eqG3Ke3l4rDy",
        "outputId": "a1fdab28-19e0-451f-e45e-bae861721d44"
      },
      "execution_count": 14,
      "outputs": [
        {
          "output_type": "stream",
          "name": "stdout",
          "text": [
            "188\n",
            "98\n",
            "92\n",
            "112\n",
            "328\n",
            "85\n",
            "180\n",
            "122\n",
            "136\n",
            "212\n",
            "99\n",
            "168\n",
            "256\n",
            "108\n",
            "112\n",
            "176\n",
            "101\n",
            "96\n",
            "132\n",
            "102\n",
            "120\n",
            "89\n",
            "192\n",
            "112\n",
            "88\n",
            "94\n",
            "140\n",
            "112\n",
            "112\n",
            "107\n",
            "140\n",
            "108\n",
            "85\n",
            "91\n",
            "75\n",
            "84\n",
            "85\n",
            "110\n",
            "77\n",
            "130\n",
            "152\n",
            "82\n",
            "264\n",
            "152\n",
            "86\n",
            "98\n",
            "122\n",
            "98\n",
            "176\n",
            "126\n",
            "96\n",
            "96\n",
            "122\n",
            "105\n",
            "93\n",
            "168\n",
            "196\n",
            "208\n",
            "100\n",
            "115\n",
            "272\n",
            "136\n",
            "232\n",
            "131\n",
            "91\n",
            "148\n",
            "208\n",
            "97\n",
            "98\n",
            "112\n",
            "108\n",
            "103\n",
            "98\n",
            "57\n",
            "124\n",
            "95\n",
            "138\n",
            "81\n",
            "152\n",
            "96\n",
            "104\n",
            "85\n",
            "136\n",
            "141\n",
            "100\n",
            "120\n",
            "94\n",
            "104\n",
            "196\n",
            "94\n",
            "200\n",
            "84\n",
            "98\n",
            "98\n",
            "106\n",
            "124\n",
            "88\n",
            "85\n",
            "104\n",
            "88\n"
          ]
        }
      ]
    }
  ]
}