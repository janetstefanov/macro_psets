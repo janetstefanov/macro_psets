{
  "nbformat": 4,
  "nbformat_minor": 0,
  "metadata": {
    "colab": {
      "provenance": [],
      "authorship_tag": "ABX9TyOlrbtTwhZR1mRx9kjYpyhB",
      "include_colab_link": true
    },
    "kernelspec": {
      "name": "python3",
      "display_name": "Python 3"
    },
    "language_info": {
      "name": "python"
    }
  },
  "cells": [
    {
      "cell_type": "markdown",
      "metadata": {
        "id": "view-in-github",
        "colab_type": "text"
      },
      "source": [
        "<a href=\"https://colab.research.google.com/github/janetstefanov/macro_psets/blob/main/Macro_ta9_29.ipynb\" target=\"_parent\"><img src=\"https://colab.research.google.com/assets/colab-badge.svg\" alt=\"Open In Colab\"/></a>"
      ]
    },
    {
      "cell_type": "code",
      "execution_count": 31,
      "metadata": {
        "colab": {
          "base_uri": "https://localhost:8080/"
        },
        "id": "1-gGfNcLHmUW",
        "outputId": "967c0ce4-59cb-4a9a-a17e-98d7389108e2"
      },
      "outputs": [
        {
          "output_type": "stream",
          "name": "stdout",
          "text": [
            "2.0\n"
          ]
        }
      ],
      "source": [
        "import numpy as np \n",
        "\n",
        "#np array allows you to do operations on the list such as the one in how the function is defined\n",
        "d = np.array([1,5,9,10,25])\n",
        "fv = 14\n",
        "\n",
        "def change_recursive(fv, d):\n",
        "  d_search = d[d <= fv]\n",
        "  #return d_search\n",
        "  if fv in d: \n",
        "    optimal_number_coins = 1\n",
        "  else: \n",
        "    candidates = []\n",
        "    for di in d_search: \n",
        "      candidates.append(change(fv-di,d))\n",
        "    candidates = np.array(candidates)   \n",
        "    #x = d[np.argmin(candidates)]\n",
        "    opt_change = np.min(candidates)\n",
        "    optimal_number_coins = 1 + opt_change \n",
        "  return optimal_number_coins\n",
        "\n",
        "print(change_recursive(fv,d))  "
      ]
    },
    {
      "cell_type": "code",
      "source": [
        "#storing the values we have already computed in an array\n",
        "d = np.array([1,5,9,10,25])\n",
        "#fv = 14\n",
        "\n",
        "#C gives us the optimal number of coins in each position (so minimum coinage in 1 in position 0, minimum coinage in 2 in position 1)\n",
        "#C = np.array([])\n",
        "def change_array(fv, d):\n",
        "  C = np.array([])\n",
        "  for coin_values in range(1, fv+1):  \n",
        "    d_search = d[d <= coin_values]\n",
        "    if coin_values in d: \n",
        "      optimal_number_coins = 1\n",
        "      C = np.append(C, optimal_number_coins)\n",
        "    else: \n",
        "      candidates = []\n",
        "      for di in d_search: \n",
        "        candidates.append(C[coin_values - di-1])\n",
        "      candidates = np.array(candidates)   \n",
        "      opt_change = np.min(candidates)\n",
        "      C = np.append(C, opt_change+1)\n",
        "  optimal_number_coins = C[fv-1] \n",
        "  return optimal_number_coins\n",
        "\n",
        "print(change_array(8,d))"
      ],
      "metadata": {
        "colab": {
          "base_uri": "https://localhost:8080/"
        },
        "id": "g5lN_S0iMr5-",
        "outputId": "51d5cb4a-1571-45cc-824f-6d4292470025"
      },
      "execution_count": 32,
      "outputs": [
        {
          "output_type": "stream",
          "name": "stdout",
          "text": [
            "4.0\n"
          ]
        }
      ]
    },
    {
      "cell_type": "code",
      "source": [
        "import time\n",
        "import matplotlib.pyplot as plt\n",
        "\n",
        "time_rec = []\n",
        "time_arr = []\n",
        "for fvs in range(1,100):\n",
        "  start = time.time()\n",
        "  change_recursive(fvs, d)\n",
        "  end = time.time()\n",
        "  time_rec.append(end-start)\n",
        "  start = time.time()\n",
        "  change_array(fvs, d)\n",
        "  end = time.time()\n",
        "  time_arr.append(end - start)\n",
        "\n",
        "plt.plot(time_rec, label = 'recursive')\n",
        "plt.plot(time_arr, label = 'array')\n",
        "plt.legend()"
      ],
      "metadata": {
        "colab": {
          "base_uri": "https://localhost:8080/",
          "height": 282
        },
        "id": "_cdDgAtaS_cX",
        "outputId": "c878e81a-33c9-4df3-8f84-77d8148e04c9"
      },
      "execution_count": 37,
      "outputs": [
        {
          "output_type": "execute_result",
          "data": {
            "text/plain": [
              "<matplotlib.legend.Legend at 0x7fbf67048750>"
            ]
          },
          "metadata": {},
          "execution_count": 37
        },
        {
          "output_type": "display_data",
          "data": {
            "text/plain": [
              "<Figure size 432x288 with 1 Axes>"
            ],
            "image/png": "[encoded data removed]"
          },
          "metadata": {
            "needs_background": "light"
          }
        }
      ]
    }
  ]
}